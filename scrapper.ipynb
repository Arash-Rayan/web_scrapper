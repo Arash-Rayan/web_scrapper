{
 "cells": [
  {
   "cell_type": "code",
   "execution_count": null,
   "id": "d445e229",
   "metadata": {},
   "outputs": [],
   "source": [
    "from bs4 import BeautifulSoup "
   ]
  },
  {
   "cell_type": "markdown",
   "id": "a20e4ddd",
   "metadata": {},
   "source": [
    "### use headers and cookies like this , get help with gpt to extract what network request send and put it here"
   ]
  },
  {
   "cell_type": "code",
   "execution_count": 13,
   "id": "2cfb98d9",
   "metadata": {},
   "outputs": [],
   "source": [
    "# getty_headers = {\n",
    "#     'User-Agent': 'Mozilla/5.0 (Linux; Android 6.0; Nexus 5 Build/MRA58N) AppleWebKit/537.36 (KHTML, like Gecko) Chrome/138.0.0.0 Mobile Safari/537.36',\n",
    "#     'Accept': 'text/html,application/xhtml+xml,application/xml;q=0.9,image/avif,image/webp,image/apng,*/*;q=0.8,application/signed-exchange;v=b3;q=0.7',\n",
    "#     'Accept-Language': 'en-US,en;q=0.9',\n",
    "#     'Accept-Encoding': 'gzip, deflate, br, zstd',\n",
    "#     'Referer': 'https://www.gettyimages.fr/',\n",
    "#     'Sec-Fetch-Dest': 'document',\n",
    "#     'Sec-Fetch-Mode': 'navigate',\n",
    "#     'Sec-Fetch-Site': 'none',\n",
    "#     'Sec-Fetch-User': '?1',\n",
    "#     'Upgrade-Insecure-Requests': '1',\n",
    "#     'Priority': 'u=0, i',\n",
    "# }\n",
    "\n",
    "# getty_cookies = {\n",
    "#     'OptanonAlertBoxClosed': '2025-07-15T10:08:12.780Z',\n",
    "#     '_ga': 'GA1.1.565913788.1752574176',\n",
    "#     'csrf': 't=lQaQ2XNbrAKrCqzXTpe2pAHgiBSumvIWLkRt2/4ir2A=',\n",
    "#     'vis': 'vid=419c4a29-8f5b-4abb-accc-5e94f516180b',\n",
    "#     'giu': 'nv=2&lv=2025-07-19T05:10:06Z',\n",
    "#     'IR_gbd': 'gettyimages.fr',\n",
    "#     'OptanonConsent': 'isGpcEnabled=0&datestamp=Sat+Jul+19+2025+10:28:21+GMT+0330+(Iran+Standard+Time)&version=6.32.0&isIABGlobal=false&hosts=&consentId=a6e0b2a3-b104-43f1-9219-5f164defbe37&interactionCount=1&landingPath=NotLandingPage&groups=C0001:1,C0004:1&geolocation=FR;HDF&AwaitingReconsent=false',\n",
    "# }\n"
   ]
  },
  {
   "cell_type": "code",
   "execution_count": 7,
   "id": "4024394c",
   "metadata": {},
   "outputs": [],
   "source": [
    "url = f\"https://www.gettyimages.fr/search/2/image?phrase=aircraft%20carrier&sort=mostpopular&license=rf%2Crm\""
   ]
  },
  {
   "cell_type": "code",
   "execution_count": null,
   "id": "836f3e11",
   "metadata": {},
   "outputs": [],
   "source": [
    "import os\n",
    "import os.path\n",
    "import requests\n",
    "from bs4 import BeautifulSoup\n",
    "from urllib.parse import urljoin\n",
    "from uuid import uuid4\n",
    "from selenium import webdriver\n",
    "from selenium.webdriver.support.ui import WebDriverWait\n",
    "from selenium.webdriver.support import expected_conditions as EC\n",
    "from selenium.webdriver.common.by import By\n",
    "from selenium import webdriver\n",
    "\n",
    "\n",
    "\n",
    "def download_frames( url: str, page_number: int, is_military: bool , ship_type:str , ship_label:int):\n",
    "\n",
    "\n",
    "    url_path = f\"{url}page={page_number}\"\n",
    "    driver = webdriver.Chrome()\n",
    "    driver.get(url_path)\n",
    "    print(url_path)\n",
    "\n",
    "    try:\n",
    "        print('hey solve the captcha')\n",
    "        WebDriverWait(driver, 300).until(\n",
    "            lambda d: \"bot-wall\" not in d.current_url\n",
    "        )\n",
    "        print(\"captcha solved.\")\n",
    "    except:\n",
    "        print(\"i waited too long\")\n",
    "\n",
    "    soup = BeautifulSoup(driver.page_source, 'html.parser')\n",
    "\n",
    "   \n",
    "    current_page = 1 \n",
    "    current_image_index = 0 \n",
    "\n",
    "\n",
    "    soup = BeautifulSoup(driver.page_source, 'html.parser')\n",
    "    \n",
    "    sources = [urljoin(url_path, img.get('src')) for img in soup.find_all('img') if img.get('src')]\n",
    "    path = 'data/military' if is_military else 'data/commercial'\n",
    "    os.makedirs(path, exist_ok=True)\n",
    "    for i, src in enumerate(sources):\n",
    "        try:\n",
    "                \n",
    "                response = requests.get(src)\n",
    "                counter = uuid4()\n",
    "                final_path = os.path.join(path , ship_type)\n",
    "                os.makedirs(final_path , exist_ok=True)\n",
    "                file_path = os.path.join(final_path, f'image_{counter}_type={ship_label}.jpg')\n",
    "                with open(file_path, 'wb') as f:\n",
    "                    f.write(response.content)\n",
    "                current_image_index = i \n",
    "                current_page = page_number\n",
    "        except Exception as e:\n",
    "                continue\n",
    "    return current_image_index , current_page\n"
   ]
  },
  {
   "cell_type": "code",
   "execution_count": 10,
   "id": "d874f549",
   "metadata": {},
   "outputs": [],
   "source": [
    "url ='https://www.gettyimages.fr/search/2/image?phrase=contianer%20ships&sort=mostpopular&license=rf%2Crm'"
   ]
  },
  {
   "cell_type": "code",
   "execution_count": null,
   "id": "da778d23",
   "metadata": {},
   "outputs": [],
   "source": [
    "for i in range(30,40):\n",
    " img_idx , cur_page =   download_frames(url=url , page_number=i, is_military=False , ship_type='container_ships' , ship_label=1)\n",
    " print(img_idx , cur_page)"
   ]
  },
  {
   "cell_type": "code",
   "execution_count": null,
   "id": "5b94aea1",
   "metadata": {},
   "outputs": [],
   "source": [
    "# 6 page"
   ]
  }
 ],
 "metadata": {
  "kernelspec": {
   "display_name": "venv",
   "language": "python",
   "name": "python3"
  },
  "language_info": {
   "codemirror_mode": {
    "name": "ipython",
    "version": 3
   },
   "file_extension": ".py",
   "mimetype": "text/x-python",
   "name": "python",
   "nbconvert_exporter": "python",
   "pygments_lexer": "ipython3",
   "version": "3.13.3"
  }
 },
 "nbformat": 4,
 "nbformat_minor": 5
}
