{
 "cells": [
  {
   "cell_type": "code",
   "execution_count": 2,
   "id": "d445e229",
   "metadata": {},
   "outputs": [],
   "source": [
    "from bs4 import BeautifulSoup \n",
    "import requests "
   ]
  },
  {
   "cell_type": "code",
   "execution_count": null,
   "id": "3c40407e",
   "metadata": {},
   "outputs": [],
   "source": [
    "import requests\n",
    "\n",
    "headers = {\n",
    "    'User-Agent': 'Mozilla/5.0 (Linux; Android 6.0; Nexus 5 Build/MRA58N) AppleWebKit/537.36 (KHTML, like Gecko) Chrome/138.0.0.0 Mobile Safari/537.36',\n",
    "    'Accept': 'text/html,application/xhtml+xml,application/xml;q=0.9,image/avif,image/webp,image/apng,*/*;q=0.8,application/signed-exchange;v=b3;q=0.7',\n",
    "    'Accept-Language': 'en-US,en;q=0.9',\n",
    "    'Referer': 'https://www.google.com/',\n",
    "}\n",
    "\n",
    "cookies = {\n",
    "    'session-id': '142-4569669-5002717',\n",
    "    'session-id-time': '2082787201l',\n",
    "    'ubid-main': '131-8064941-3993942',\n",
    "    'session-token': 'bP23yLVcovCLXIY/hExzVvDXCN+PtJj/tcsQfH3nu+ZUQsrH7P4bcEtnRO16YwAtEmQaDZulPuZ3OfML02sadQ4vPThwWvl7FFjIDsxX8B8bWTDXcmGNxWFTWllg1DkcG9aD/l75L07KBbIQku+wwe4D0HIhXc9J/G9gcflOB7CILKcFbD+A2TCiI94VNFdckw8AhlktfXa+C5WEz21xIShYCQe6QKrbr4NWazV/onRlBjK2jaYvzWg8nLX4IWe3Zhf1kl/bX+UcOKSxtnPg/UWg4BfK7JQ7dJzOu/8UeGKZ4+xO0Thjjk8VR3ICdUxW+bZm366q7iB0+zK/weuo8wyIIKIjKUvG',\n",
    "    'ad-oo': '0',\n",
    "    'ci': 'eyJhY3QiOiJDUVJxSTBBUVJxSTBBRjRBQkNFTmd2LWdBQUFBQUFBQUFCYW1HNndCMkdvc05UNGF0aHJERFh1R3dZYkR3MlREWmVHMFlicUFBRUFBQUFBIiwiZ2N0IjoiQ1FScUkwQVFScUkwQUY0QUJDRU5CZ0ZnQU5MZ0FBQUFBQmFnS1pRUXdBRkFBTkFBeUFCd0FFRUFKQUFsQUJPQUNvQUZvQU1vQWFBQnFBRDBBSVVBUkFCR2dDWUFKd0FVQUFwQUJVQUM3QUdFQVlnQXpBQnVnRGtBT1lBZmdCQUFDRUFFUkFJNEFqd0JOQUNsQUZhQUxnQWFvQThRQi1nRVJBSXRBUndCSFFDVEFFdEFKd0FUc0Fwb0JXUUN2QUdCQU1VQVowQXo0QndnRGlBSFVBUDBBZndCRUFDTlFFZWdLTkFXR0F2TUJlNENfd0dDQU1zQWVZQkhvQ21RQUFRQUFDZ1VBR0FBSVBvQklBTUFBUWZRSFFBWUFBZy1nU2dBd0FCQjlBcEFCZ0FDRDZBWUFEQUFFSDBCUUFHQUFJUG9EQUFNQUFRZlFJQUFZQUFnLWdJQUhnQWdBQklBQ29BR3NBWVFCaUFETUFITUFRQUFwUUJxZ0V0QUt5QVY0QTRRQ3d3LmNBQUFBQUFBQUFBIiwicHVycG9zZXMiOlsiMSIsIjIiLCI0IiwiNyIsIjkiLCIxMCIsIjExIl0sInZlbmRvcnMiOlsiNjgiLCI3NyIsIjc1NSIsIjc5MyIsIjgwNCIsIjExMjYiLCI1MDAyNSIsIjUwMDMwIl0sImlzR2RwciI6dHJ1ZX0',\n",
    "    'csm-hit': '5K10TBWPFQ6EGXYPJ7QX+s-5K10TBWPFQ6EGXYPJ7QX|1752738618962'\n",
    "}\n",
    "\n",
    "url = 'https://m.imdb.com/'\n",
    "\n",
    "response = requests.get(url, headers=headers, cookies=cookies)\n"
   ]
  },
  {
   "cell_type": "code",
   "execution_count": null,
   "id": "11ec036f",
   "metadata": {},
   "outputs": [],
   "source": [
    "response.status_code"
   ]
  },
  {
   "cell_type": "code",
   "execution_count": null,
   "id": "2cfb98d9",
   "metadata": {},
   "outputs": [],
   "source": [
    "getty_headers = {\n",
    "    'User-Agent': 'Mozilla/5.0 (Linux; Android 6.0; Nexus 5 Build/MRA58N) AppleWebKit/537.36 (KHTML, like Gecko) Chrome/138.0.0.0 Mobile Safari/537.36',\n",
    "    'Accept': 'text/html,application/xhtml+xml,application/xml;q=0.9,image/avif,image/webp,image/apng,*/*;q=0.8,application/signed-exchange;v=b3;q=0.7',\n",
    "    'Accept-Language': 'en-US,en;q=0.9',\n",
    "    'Accept-Encoding': 'gzip, deflate, br, zstd',\n",
    "    'Referer': 'https://www.gettyimages.fr/',\n",
    "    'Sec-Fetch-Dest': 'document',\n",
    "    'Sec-Fetch-Mode': 'navigate',\n",
    "    'Sec-Fetch-Site': 'none',\n",
    "    'Sec-Fetch-User': '?1',\n",
    "    'Upgrade-Insecure-Requests': '1',\n",
    "    'Priority': 'u=0, i',\n",
    "}\n",
    "\n",
    "getty_cookies = {\n",
    "    'OptanonAlertBoxClosed': '2025-07-15T10:08:12.780Z',\n",
    "    '_ga': 'GA1.1.565913788.1752574176',\n",
    "    'csrf': 't=lQaQ2XNbrAKrCqzXTpe2pAHgiBSumvIWLkRt2/4ir2A=',\n",
    "    'vis': 'vid=419c4a29-8f5b-4abb-accc-5e94f516180b',\n",
    "    'giu': 'nv=2&lv=2025-07-19T05:10:06Z',\n",
    "    'IR_gbd': 'gettyimages.fr',\n",
    "    'OptanonConsent': 'isGpcEnabled=0&datestamp=Sat+Jul+19+2025+10:28:21+GMT+0330+(Iran+Standard+Time)&version=6.32.0&isIABGlobal=false&hosts=&consentId=a6e0b2a3-b104-43f1-9219-5f164defbe37&interactionCount=1&landingPath=NotLandingPage&groups=C0001:1,C0004:1&geolocation=FR;HDF&AwaitingReconsent=false',\n",
    "}\n"
   ]
  },
  {
   "cell_type": "code",
   "execution_count": null,
   "id": "5e655cc5",
   "metadata": {},
   "outputs": [],
   "source": [
    "soupe = BeautifulSoup(response.text)\n",
    "\n",
    "sources = [img.get('src') for img in soupe.findAll('img')]\n",
    "sources"
   ]
  },
  {
   "cell_type": "code",
   "execution_count": null,
   "id": "4799589e",
   "metadata": {},
   "outputs": [],
   "source": [
    "import requests\n",
    "import os\n",
    "\n",
    "img = requests.get(sources[0])  \n",
    "\n",
    "os.makedirs('data', exist_ok=True)\n",
    "\n",
    "file_path = os.path.join('data', 'downloaded_image.jpg')  \n",
    "\n",
    "with open(file_path, 'wb') as f:\n",
    "    f.write(img.content)  \n",
    "\n",
    "print(f\"Image successfully saved to {file_path}\")"
   ]
  },
  {
   "cell_type": "code",
   "execution_count": null,
   "id": "79fb4470",
   "metadata": {},
   "outputs": [],
   "source": [
    "key= 'E80O7Y5EXDLNQR29MZXW40FNEAUNL3S66PRBZQ3V41CXL22IU3RL1VDQ27GBQXD37EXQGKXU526XSKE6'\n"
   ]
  },
  {
   "cell_type": "code",
   "execution_count": null,
   "id": "b34e8861",
   "metadata": {},
   "outputs": [],
   "source": [
    "from scrapingbee import ScrapingBeeClient\n",
    "client = ScrapingBeeClient(api_key=key)\n"
   ]
  },
  {
   "cell_type": "code",
   "execution_count": null,
   "id": "2c9c507d",
   "metadata": {},
   "outputs": [],
   "source": [
    "response = client.get(\"https://www.gettyimages.fr/photos/aircraft-carrier\")\n",
    "response.status_code"
   ]
  },
  {
   "cell_type": "code",
   "execution_count": null,
   "id": "c582ed27",
   "metadata": {},
   "outputs": [],
   "source": [
    "soupe = BeautifulSoup(response.text)\n",
    "\n",
    "sources = [img.get('src') if img.get('src') else None for img in soupe.find_all('img')]\n",
    "len(sources)"
   ]
  },
  {
   "cell_type": "code",
   "execution_count": null,
   "id": "b24a95f9",
   "metadata": {},
   "outputs": [],
   "source": [
    "import os\n",
    "import requests"
   ]
  },
  {
   "cell_type": "code",
   "execution_count": null,
   "id": "9906bede",
   "metadata": {},
   "outputs": [],
   "source": [
    "url = f\"https://www.gettyimages.fr/search/2/image?phrase=aircraft%20carrier&sort=mostpopular&license=rf%2Crm\"\n",
    "    \n",
    "response = requests.get(\n",
    "            url,\n",
    "            headers=headers,\n",
    "            cookies=cookies,\n",
    "        )\n",
    "\n",
    "print(response.status_code)\n",
    "        \n"
   ]
  },
  {
   "cell_type": "code",
   "execution_count": 5,
   "id": "ac49d7aa",
   "metadata": {},
   "outputs": [],
   "source": [
    "from selenium import webdriver"
   ]
  },
  {
   "cell_type": "code",
   "execution_count": 6,
   "id": "4b760ad4",
   "metadata": {},
   "outputs": [],
   "source": [
    "from urllib.parse import urljoin\n"
   ]
  },
  {
   "cell_type": "code",
   "execution_count": 7,
   "id": "4024394c",
   "metadata": {},
   "outputs": [],
   "source": [
    "url = f\"https://www.gettyimages.fr/search/2/image?phrase=aircraft%20carrier&sort=mostpopular&license=rf%2Crm\""
   ]
  },
  {
   "cell_type": "code",
   "execution_count": 9,
   "id": "836f3e11",
   "metadata": {},
   "outputs": [],
   "source": [
    "import os\n",
    "import os.path\n",
    "import requests\n",
    "from bs4 import BeautifulSoup\n",
    "from urllib.parse import urljoin\n",
    "from uuid import uuid4\n",
    "from selenium import webdriver\n",
    "from selenium.webdriver.support.ui import WebDriverWait\n",
    "from selenium.webdriver.support import expected_conditions as EC\n",
    "from selenium.webdriver.common.by import By\n",
    "\n",
    "\n",
    "def download_frames( url: str, page_number: int, is_military: bool , ship_type:str , ship_label:int):\n",
    "\n",
    "\n",
    "    url_path = f\"{url}page={page_number}\"\n",
    "    driver = webdriver.Chrome()\n",
    "    driver.get(url_path)\n",
    "    print(url_path)\n",
    "\n",
    "    try:\n",
    "        print('hey solve the captcha')\n",
    "        WebDriverWait(driver, 300).until(\n",
    "            lambda d: \"bot-wall\" not in d.current_url\n",
    "        )\n",
    "        print(\"captcha solved.\")\n",
    "    except:\n",
    "        print(\"i waited too long\")\n",
    "\n",
    "    soup = BeautifulSoup(driver.page_source, 'html.parser')\n",
    "\n",
    "   \n",
    "    current_page = 1 \n",
    "    current_image_index = 0 \n",
    "\n",
    "\n",
    "    soup = BeautifulSoup(driver.page_source, 'html.parser')\n",
    "    \n",
    "    sources = [urljoin(url_path, img.get('src')) for img in soup.find_all('img') if img.get('src')]\n",
    "    path = 'data/military' if is_military else 'data/commercial'\n",
    "    os.makedirs(path, exist_ok=True)\n",
    "    for i, src in enumerate(sources):\n",
    "        try:\n",
    "                \n",
    "                response = requests.get(src)\n",
    "                counter = uuid4()\n",
    "                final_path = os.path.join(path , ship_type)\n",
    "                os.makedirs(final_path , exist_ok=True)\n",
    "                file_path = os.path.join(final_path, f'image_{counter}_type={ship_label}.jpg')\n",
    "                with open(file_path, 'wb') as f:\n",
    "                    f.write(response.content)\n",
    "                current_image_index = i \n",
    "                current_page = page_number\n",
    "        except Exception as e:\n",
    "                continue\n",
    "    return current_image_index , current_page\n"
   ]
  },
  {
   "cell_type": "code",
   "execution_count": 10,
   "id": "d874f549",
   "metadata": {},
   "outputs": [],
   "source": [
    "url ='https://www.gettyimages.fr/search/2/image?phrase=contianer%20ships&sort=mostpopular&license=rf%2Crm'"
   ]
  },
  {
   "cell_type": "code",
   "execution_count": 11,
   "id": "da778d23",
   "metadata": {},
   "outputs": [
    {
     "name": "stdout",
     "output_type": "stream",
     "text": [
      "https://www.gettyimages.fr/search/2/image?phrase=contianer%20ships&sort=mostpopular&license=rf%2Crmpage=30\n",
      "hey solve the captcha\n",
      "captcha solved.\n",
      "0 1\n",
      "https://www.gettyimages.fr/search/2/image?phrase=contianer%20ships&sort=mostpopular&license=rf%2Crmpage=31\n",
      "hey solve the captcha\n",
      "captcha solved.\n",
      "1 31\n",
      "https://www.gettyimages.fr/search/2/image?phrase=contianer%20ships&sort=mostpopular&license=rf%2Crmpage=32\n",
      "hey solve the captcha\n",
      "captcha solved.\n",
      "0 1\n",
      "https://www.gettyimages.fr/search/2/image?phrase=contianer%20ships&sort=mostpopular&license=rf%2Crmpage=33\n",
      "hey solve the captcha\n",
      "captcha solved.\n",
      "0 1\n"
     ]
    },
    {
     "ename": "WebDriverException",
     "evalue": "Message: unknown error: net::ERR_INTERNET_DISCONNECTED\n  (Session info: chrome=138.0.7204.158)\nStacktrace:\n\tGetHandleVerifier [0x0x7ff70c45e925+77845]\n\tGetHandleVerifier [0x0x7ff70c45e980+77936]\n\t(No symbol) [0x0x7ff70c219cda]\n\t(No symbol) [0x0x7ff70c216a93]\n\t(No symbol) [0x0x7ff70c207899]\n\t(No symbol) [0x0x7ff70c209651]\n\t(No symbol) [0x0x7ff70c207bb6]\n\t(No symbol) [0x0x7ff70c207616]\n\t(No symbol) [0x0x7ff70c2072da]\n\t(No symbol) [0x0x7ff70c204eab]\n\t(No symbol) [0x0x7ff70c20572c]\n\t(No symbol) [0x0x7ff70c21dc8a]\n\t(No symbol) [0x0x7ff70c2c18be]\n\t(No symbol) [0x0x7ff70c2988ca]\n\t(No symbol) [0x0x7ff70c2c0b07]\n\t(No symbol) [0x0x7ff70c2986a3]\n\t(No symbol) [0x0x7ff70c261791]\n\t(No symbol) [0x0x7ff70c262523]\n\tGetHandleVerifier [0x0x7ff70c73683d+3059501]\n\tGetHandleVerifier [0x0x7ff70c730bfd+3035885]\n\tGetHandleVerifier [0x0x7ff70c7503f0+3164896]\n\tGetHandleVerifier [0x0x7ff70c478c2e+185118]\n\tGetHandleVerifier [0x0x7ff70c48053f+216111]\n\tGetHandleVerifier [0x0x7ff70c4672d4+113092]\n\tGetHandleVerifier [0x0x7ff70c467489+113529]\n\tGetHandleVerifier [0x0x7ff70c44e288+10616]\n\tBaseThreadInitThunk [0x0x7ff8bec47374+20]\n\tRtlUserThreadStart [0x0x7ff8bf69cc91+33]\n",
     "output_type": "error",
     "traceback": [
      "\u001b[31m---------------------------------------------------------------------------\u001b[39m",
      "\u001b[31mWebDriverException\u001b[39m                        Traceback (most recent call last)",
      "\u001b[36mCell\u001b[39m\u001b[36m \u001b[39m\u001b[32mIn[11]\u001b[39m\u001b[32m, line 2\u001b[39m\n\u001b[32m      1\u001b[39m \u001b[38;5;28;01mfor\u001b[39;00m i \u001b[38;5;129;01min\u001b[39;00m \u001b[38;5;28mrange\u001b[39m(\u001b[32m30\u001b[39m,\u001b[32m40\u001b[39m):\n\u001b[32m----> \u001b[39m\u001b[32m2\u001b[39m  img_idx , cur_page =   \u001b[43mdownload_frames\u001b[49m\u001b[43m(\u001b[49m\u001b[43murl\u001b[49m\u001b[43m=\u001b[49m\u001b[43murl\u001b[49m\u001b[43m \u001b[49m\u001b[43m,\u001b[49m\u001b[43m \u001b[49m\u001b[43mpage_number\u001b[49m\u001b[43m=\u001b[49m\u001b[43mi\u001b[49m\u001b[43m,\u001b[49m\u001b[43m \u001b[49m\u001b[43mis_military\u001b[49m\u001b[43m=\u001b[49m\u001b[38;5;28;43;01mFalse\u001b[39;49;00m\u001b[43m \u001b[49m\u001b[43m,\u001b[49m\u001b[43m \u001b[49m\u001b[43mship_type\u001b[49m\u001b[43m=\u001b[49m\u001b[33;43m'\u001b[39;49m\u001b[33;43mcontainer_ships\u001b[39;49m\u001b[33;43m'\u001b[39;49m\u001b[43m \u001b[49m\u001b[43m,\u001b[49m\u001b[43m \u001b[49m\u001b[43mship_label\u001b[49m\u001b[43m=\u001b[49m\u001b[32;43m1\u001b[39;49m\u001b[43m)\u001b[49m\n\u001b[32m      3\u001b[39m  \u001b[38;5;28mprint\u001b[39m(img_idx , cur_page)\n",
      "\u001b[36mCell\u001b[39m\u001b[36m \u001b[39m\u001b[32mIn[9]\u001b[39m\u001b[32m, line 18\u001b[39m, in \u001b[36mdownload_frames\u001b[39m\u001b[34m(url, page_number, is_military, ship_type, ship_label)\u001b[39m\n\u001b[32m     16\u001b[39m url_path = \u001b[33mf\u001b[39m\u001b[33m\"\u001b[39m\u001b[38;5;132;01m{\u001b[39;00murl\u001b[38;5;132;01m}\u001b[39;00m\u001b[33mpage=\u001b[39m\u001b[38;5;132;01m{\u001b[39;00mpage_number\u001b[38;5;132;01m}\u001b[39;00m\u001b[33m\"\u001b[39m\n\u001b[32m     17\u001b[39m driver = webdriver.Chrome()\n\u001b[32m---> \u001b[39m\u001b[32m18\u001b[39m \u001b[43mdriver\u001b[49m\u001b[43m.\u001b[49m\u001b[43mget\u001b[49m\u001b[43m(\u001b[49m\u001b[43murl_path\u001b[49m\u001b[43m)\u001b[49m\n\u001b[32m     19\u001b[39m \u001b[38;5;28mprint\u001b[39m(url_path)\n\u001b[32m     21\u001b[39m \u001b[38;5;28;01mtry\u001b[39;00m:\n",
      "\u001b[36mFile \u001b[39m\u001b[32mc:\\Users\\alchemist\\Desktop\\test\\venv\\Lib\\site-packages\\selenium\\webdriver\\remote\\webdriver.py:479\u001b[39m, in \u001b[36mWebDriver.get\u001b[39m\u001b[34m(self, url)\u001b[39m\n\u001b[32m    461\u001b[39m \u001b[38;5;28;01mdef\u001b[39;00m\u001b[38;5;250m \u001b[39m\u001b[34mget\u001b[39m(\u001b[38;5;28mself\u001b[39m, url: \u001b[38;5;28mstr\u001b[39m) -> \u001b[38;5;28;01mNone\u001b[39;00m:\n\u001b[32m    462\u001b[39m \u001b[38;5;250m    \u001b[39m\u001b[33;03m\"\"\"Navigate the browser to the specified URL in the current window or\u001b[39;00m\n\u001b[32m    463\u001b[39m \u001b[33;03m    tab.\u001b[39;00m\n\u001b[32m    464\u001b[39m \n\u001b[32m   (...)\u001b[39m\u001b[32m    477\u001b[39m \u001b[33;03m    >>> driver.get(\"https://example.com\")\u001b[39;00m\n\u001b[32m    478\u001b[39m \u001b[33;03m    \"\"\"\u001b[39;00m\n\u001b[32m--> \u001b[39m\u001b[32m479\u001b[39m     \u001b[38;5;28;43mself\u001b[39;49m\u001b[43m.\u001b[49m\u001b[43mexecute\u001b[49m\u001b[43m(\u001b[49m\u001b[43mCommand\u001b[49m\u001b[43m.\u001b[49m\u001b[43mGET\u001b[49m\u001b[43m,\u001b[49m\u001b[43m \u001b[49m\u001b[43m{\u001b[49m\u001b[33;43m\"\u001b[39;49m\u001b[33;43murl\u001b[39;49m\u001b[33;43m\"\u001b[39;49m\u001b[43m:\u001b[49m\u001b[43m \u001b[49m\u001b[43murl\u001b[49m\u001b[43m}\u001b[49m\u001b[43m)\u001b[49m\n",
      "\u001b[36mFile \u001b[39m\u001b[32mc:\\Users\\alchemist\\Desktop\\test\\venv\\Lib\\site-packages\\selenium\\webdriver\\remote\\webdriver.py:454\u001b[39m, in \u001b[36mWebDriver.execute\u001b[39m\u001b[34m(self, driver_command, params)\u001b[39m\n\u001b[32m    451\u001b[39m response = cast(RemoteConnection, \u001b[38;5;28mself\u001b[39m.command_executor).execute(driver_command, params)\n\u001b[32m    453\u001b[39m \u001b[38;5;28;01mif\u001b[39;00m response:\n\u001b[32m--> \u001b[39m\u001b[32m454\u001b[39m     \u001b[38;5;28;43mself\u001b[39;49m\u001b[43m.\u001b[49m\u001b[43merror_handler\u001b[49m\u001b[43m.\u001b[49m\u001b[43mcheck_response\u001b[49m\u001b[43m(\u001b[49m\u001b[43mresponse\u001b[49m\u001b[43m)\u001b[49m\n\u001b[32m    455\u001b[39m     response[\u001b[33m\"\u001b[39m\u001b[33mvalue\u001b[39m\u001b[33m\"\u001b[39m] = \u001b[38;5;28mself\u001b[39m._unwrap_value(response.get(\u001b[33m\"\u001b[39m\u001b[33mvalue\u001b[39m\u001b[33m\"\u001b[39m, \u001b[38;5;28;01mNone\u001b[39;00m))\n\u001b[32m    456\u001b[39m     \u001b[38;5;28;01mreturn\u001b[39;00m response\n",
      "\u001b[36mFile \u001b[39m\u001b[32mc:\\Users\\alchemist\\Desktop\\test\\venv\\Lib\\site-packages\\selenium\\webdriver\\remote\\errorhandler.py:232\u001b[39m, in \u001b[36mErrorHandler.check_response\u001b[39m\u001b[34m(self, response)\u001b[39m\n\u001b[32m    230\u001b[39m         alert_text = value[\u001b[33m\"\u001b[39m\u001b[33malert\u001b[39m\u001b[33m\"\u001b[39m].get(\u001b[33m\"\u001b[39m\u001b[33mtext\u001b[39m\u001b[33m\"\u001b[39m)\n\u001b[32m    231\u001b[39m     \u001b[38;5;28;01mraise\u001b[39;00m exception_class(message, screen, stacktrace, alert_text)  \u001b[38;5;66;03m# type: ignore[call-arg]  # mypy is not smart enough here\u001b[39;00m\n\u001b[32m--> \u001b[39m\u001b[32m232\u001b[39m \u001b[38;5;28;01mraise\u001b[39;00m exception_class(message, screen, stacktrace)\n",
      "\u001b[31mWebDriverException\u001b[39m: Message: unknown error: net::ERR_INTERNET_DISCONNECTED\n  (Session info: chrome=138.0.7204.158)\nStacktrace:\n\tGetHandleVerifier [0x0x7ff70c45e925+77845]\n\tGetHandleVerifier [0x0x7ff70c45e980+77936]\n\t(No symbol) [0x0x7ff70c219cda]\n\t(No symbol) [0x0x7ff70c216a93]\n\t(No symbol) [0x0x7ff70c207899]\n\t(No symbol) [0x0x7ff70c209651]\n\t(No symbol) [0x0x7ff70c207bb6]\n\t(No symbol) [0x0x7ff70c207616]\n\t(No symbol) [0x0x7ff70c2072da]\n\t(No symbol) [0x0x7ff70c204eab]\n\t(No symbol) [0x0x7ff70c20572c]\n\t(No symbol) [0x0x7ff70c21dc8a]\n\t(No symbol) [0x0x7ff70c2c18be]\n\t(No symbol) [0x0x7ff70c2988ca]\n\t(No symbol) [0x0x7ff70c2c0b07]\n\t(No symbol) [0x0x7ff70c2986a3]\n\t(No symbol) [0x0x7ff70c261791]\n\t(No symbol) [0x0x7ff70c262523]\n\tGetHandleVerifier [0x0x7ff70c73683d+3059501]\n\tGetHandleVerifier [0x0x7ff70c730bfd+3035885]\n\tGetHandleVerifier [0x0x7ff70c7503f0+3164896]\n\tGetHandleVerifier [0x0x7ff70c478c2e+185118]\n\tGetHandleVerifier [0x0x7ff70c48053f+216111]\n\tGetHandleVerifier [0x0x7ff70c4672d4+113092]\n\tGetHandleVerifier [0x0x7ff70c467489+113529]\n\tGetHandleVerifier [0x0x7ff70c44e288+10616]\n\tBaseThreadInitThunk [0x0x7ff8bec47374+20]\n\tRtlUserThreadStart [0x0x7ff8bf69cc91+33]\n"
     ]
    }
   ],
   "source": [
    "for i in range(30,40):\n",
    " img_idx , cur_page =   download_frames(url=url , page_number=i, is_military=False , ship_type='container_ships' , ship_label=1)\n",
    " print(img_idx , cur_page)"
   ]
  },
  {
   "cell_type": "code",
   "execution_count": null,
   "id": "5b94aea1",
   "metadata": {},
   "outputs": [],
   "source": [
    "# 6 page"
   ]
  }
 ],
 "metadata": {
  "kernelspec": {
   "display_name": "venv",
   "language": "python",
   "name": "python3"
  },
  "language_info": {
   "codemirror_mode": {
    "name": "ipython",
    "version": 3
   },
   "file_extension": ".py",
   "mimetype": "text/x-python",
   "name": "python",
   "nbconvert_exporter": "python",
   "pygments_lexer": "ipython3",
   "version": "3.13.3"
  }
 },
 "nbformat": 4,
 "nbformat_minor": 5
}
